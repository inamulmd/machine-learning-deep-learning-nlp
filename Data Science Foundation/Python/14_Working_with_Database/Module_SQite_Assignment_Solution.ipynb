{
 "cells": [
  {
   "cell_type": "markdown",
   "id": "6ce24f93",
   "metadata": {},
   "source": [
    "### Assignment 1: Creating and Connecting to a Database\n",
    "\n",
    "1. Write a Python function to create a new SQLite3 database named `test.db`.\n",
    "2. Write a Python function to create a table named `employees` with columns `id` (integer), `name` (text), `age` (integer), and `department` (text) in the `test.db` database.\n"
   ]
  },
  {
   "cell_type": "code",
   "execution_count": 1,
   "id": "4e891716",
   "metadata": {},
   "outputs": [],
   "source": [
    "import sqlite3"
   ]
  },
  {
   "cell_type": "code",
   "execution_count": 26,
   "id": "b6b899d1",
   "metadata": {},
   "outputs": [],
   "source": [
    "connection=sqlite3.connect('test5.db')\n",
    "cursor=connection.cursor()\n",
    "\n",
    "cursor.execute(''' \n",
    "    CREATE TABLE IF NOT EXISTS employees(\n",
    "               ID Integer PRIMARY KEY,\n",
    "               name TEXT NOT NULL,\n",
    "               age INTEGER,\n",
    "               department TEXT\n",
    "               )\n",
    "''')\n",
    "\n",
    "text_data=[\n",
    "    ('Md Inmul',24,'cs'),\n",
    "    ('Kunal',33,'bs'),\n",
    "    ('rahul',14,'ts'),\n",
    "    ('dhoni',39,'csk')\n",
    "]\n",
    "\n",
    "cursor.executemany(''' \n",
    " Insert into employees(name, age, department)\n",
    "                   values(?,?,?)\n",
    "''',text_data  \n",
    ")\n",
    "\n",
    "connection.commit()"
   ]
  },
  {
   "cell_type": "code",
   "execution_count": 27,
   "id": "c89f986a",
   "metadata": {},
   "outputs": [
    {
     "name": "stdout",
     "output_type": "stream",
     "text": [
      "(1, 'Md Inmul', 24, 'cs')\n",
      "(2, 'Kunal', 33, 'bs')\n",
      "(3, 'rahul', 14, 'ts')\n",
      "(4, 'dhoni', 39, 'csk')\n"
     ]
    }
   ],
   "source": [
    "cursor.execute('Select * from employees')\n",
    "row=cursor.fetchall()\n",
    "\n",
    "for rows in row:\n",
    "    print(rows)"
   ]
  },
  {
   "cell_type": "code",
   "execution_count": null,
   "id": "f8a09244",
   "metadata": {},
   "outputs": [],
   "source": [
    "cursor.execute('''\n",
    "UPDATE employees \n",
    "''')"
   ]
  },
  {
   "cell_type": "markdown",
   "id": "2ba88d54",
   "metadata": {},
   "source": [
    "\n",
    "### Assignment 2: Inserting Data\n",
    "\n",
    "1. Write a Python function to insert a new employee into the `employees` table.\n",
    "2. Insert at least 5 different employees into the `employees` table."
   ]
  },
  {
   "cell_type": "code",
   "execution_count": 31,
   "id": "df7ef399",
   "metadata": {},
   "outputs": [
    {
     "name": "stdout",
     "output_type": "stream",
     "text": [
      "Employee Inserted Successfully\n"
     ]
    }
   ],
   "source": [
    "def insert_employees(name,age,department):\n",
    "    conn=sqlite3.connect(\"test5.db\")\n",
    "    cursor=conn.cursor()\n",
    "    cursor.execute('''\n",
    "    INSERT INTO employees(name,age,department)\n",
    "                   values(?,?,?)\n",
    "    ''',(name,age,department))\n",
    "    conn.commit()\n",
    "    conn.close()\n",
    "    print(\"Employee Inserted Successfully\")\n",
    "\n",
    "\n",
    "insert_employees('Alice', 30, 'HR')"
   ]
  },
  {
   "cell_type": "code",
   "execution_count": 44,
   "id": "50f9c871",
   "metadata": {},
   "outputs": [
    {
     "name": "stdout",
     "output_type": "stream",
     "text": [
      "(1, 'Md Inmul', 24, 'cs')\n",
      "(2, 'Kunal', 33, 'bs')\n",
      "(3, 'rahul', 14, 'ts')\n",
      "(4, 'dhoni', 39, 'csk')\n",
      "(5, 'Alice', 30, 'HR')\n",
      "(6, 'Bob', 25, 'Engineering')\n",
      "(7, 'Charlie', 28, 'Sales')\n",
      "(8, 'David', 35, 'Marketing')\n",
      "(9, 'Eve', 22, 'HR')\n"
     ]
    }
   ],
   "source": [
    "def fetch_all_employees():\n",
    "    conn = sqlite3.connect('test5.db')\n",
    "    cursor = conn.cursor()\n",
    "    cursor.execute('SELECT * FROM employees')\n",
    "    records = cursor.fetchall()\n",
    "    conn.close()\n",
    "    for record in records:\n",
    "        print(record)\n",
    "\n",
    "# Test the function\n",
    "fetch_all_employees()"
   ]
  },
  {
   "cell_type": "code",
   "execution_count": 33,
   "id": "7ef80a8f",
   "metadata": {},
   "outputs": [
    {
     "name": "stdout",
     "output_type": "stream",
     "text": [
      "Employee Inserted Successfully\n",
      "Employee Inserted Successfully\n",
      "Employee Inserted Successfully\n",
      "Employee Inserted Successfully\n"
     ]
    }
   ],
   "source": [
    "# Insert 5 different employees\n",
    "insert_employees('Bob', 25, 'Engineering')\n",
    "insert_employees( 'Charlie', 28, 'Sales')\n",
    "insert_employees( 'David', 35, 'Marketing')\n",
    "insert_employees( 'Eve', 22, 'HR')"
   ]
  },
  {
   "cell_type": "code",
   "execution_count": 34,
   "id": "68171adb",
   "metadata": {},
   "outputs": [
    {
     "name": "stdout",
     "output_type": "stream",
     "text": [
      "(1, 'Md Inmul', 24, 'cs')\n",
      "(2, 'Kunal', 33, 'bs')\n",
      "(3, 'rahul', 14, 'ts')\n",
      "(4, 'dhoni', 39, 'csk')\n",
      "(5, 'Alice', 30, 'HR')\n",
      "(6, 'Bob', 25, 'Engineering')\n",
      "(7, 'Charlie', 28, 'Sales')\n",
      "(8, 'David', 35, 'Marketing')\n",
      "(9, 'Eve', 22, 'HR')\n"
     ]
    }
   ],
   "source": [
    "cursor.execute('Select * from employees')\n",
    "row=cursor.fetchall()\n",
    "\n",
    "for rows in row:\n",
    "    print(rows)"
   ]
  },
  {
   "cell_type": "markdown",
   "id": "1cab30d0",
   "metadata": {},
   "source": [
    "### Assignment 3: Querying Data\n",
    "\n",
    "1. Write a Python function to fetch and display all records from the `employees` table.\n",
    "2. Write a Python function to fetch and display all employees from a specific department."
   ]
  },
  {
   "cell_type": "code",
   "execution_count": 39,
   "id": "2c572ca0",
   "metadata": {},
   "outputs": [
    {
     "name": "stdout",
     "output_type": "stream",
     "text": [
      "(5, 'Alice', 30, 'HR')\n",
      "(9, 'Eve', 22, 'HR')\n"
     ]
    }
   ],
   "source": [
    "def fetch_employee(department):\n",
    "    conn=sqlite3.connect('test5.db')\n",
    "    cursor=conn.cursor()\n",
    "    cursor.execute('SELECT * FROM  employees WHERE department = ?',(department,))\n",
    "    rows= cursor.fetchall()\n",
    "    conn.close()\n",
    "    for row in rows:\n",
    "        print(row)\n",
    "\n",
    "\n",
    "fetch_employee('HR')"
   ]
  },
  {
   "cell_type": "markdown",
   "id": "eacc1c2c",
   "metadata": {},
   "source": [
    "\n",
    "### Assignment 4: Updating Data\n",
    "\n",
    "1. Write a Python function to update the department of an employee based on their `id`.\n",
    "2. Update the department of at least 2 employees and display the updated records."
   ]
  },
  {
   "cell_type": "code",
   "execution_count": 52,
   "id": "0681f205",
   "metadata": {},
   "outputs": [
    {
     "name": "stdout",
     "output_type": "stream",
     "text": [
      "database updated succcessfully\n",
      "database updated succcessfully\n",
      "database updated succcessfully\n",
      "(1, 'Md Inmul', 24, 'cs')\n",
      "(2, 'Kunal', 33, 'Research6')\n",
      "(3, 'rahul', 14, 'Customer Support')\n",
      "(4, 'dhoni', 39, 'fitfat')\n",
      "(5, 'Alice', 30, 'HR')\n",
      "(6, 'Bob', 25, 'Engineering')\n",
      "(7, 'Charlie', 28, 'Sales')\n",
      "(8, 'David', 35, 'Marketing')\n",
      "(9, 'Eve', 22, 'HR')\n"
     ]
    }
   ],
   "source": [
    "def fetch_employe_id(id,department):\n",
    "    conn=sqlite3.connect('test5.db')\n",
    "    cursor=conn.cursor()\n",
    "    cursor.execute('''UPDATE  employees\n",
    "                   SET department= ?\n",
    "                   WHERE id = ? \n",
    "    ''',(department,id))\n",
    "    conn.commit()\n",
    "    conn.close()\n",
    "    print(\"database updated succcessfully\")\n",
    "\n",
    "fetch_employe_id(4,'fitfat')\n",
    "fetch_employe_id(2, 'Research6')\n",
    "fetch_employe_id(3, 'Customer Support')\n",
    "fetch_all_employees()\n",
    "\n",
    "    "
   ]
  },
  {
   "cell_type": "markdown",
   "id": "710efb27",
   "metadata": {},
   "source": [
    "### Assignment 5: Deleting Data\n",
    "\n",
    "1. Write a Python function to delete an employee from the `employees` table based on their `id`.\n",
    "2. Delete at least 1 employee and display the remaining records."
   ]
  },
  {
   "cell_type": "code",
   "execution_count": 53,
   "id": "616e6b71",
   "metadata": {},
   "outputs": [
    {
     "name": "stdout",
     "output_type": "stream",
     "text": [
      "emplyee deleted succcessfully\n",
      "(1, 'Md Inmul', 24, 'cs')\n",
      "(2, 'Kunal', 33, 'Research6')\n",
      "(3, 'rahul', 14, 'Customer Support')\n",
      "(5, 'Alice', 30, 'HR')\n",
      "(6, 'Bob', 25, 'Engineering')\n",
      "(7, 'Charlie', 28, 'Sales')\n",
      "(8, 'David', 35, 'Marketing')\n",
      "(9, 'Eve', 22, 'HR')\n"
     ]
    }
   ],
   "source": [
    "def delete_employe_id(id):\n",
    "    conn=sqlite3.connect('test5.db')\n",
    "    cursor=conn.cursor()\n",
    "    cursor.execute('''DELETE FROM employees\n",
    "                   WHERE id = ? \n",
    "    ''',(id,))\n",
    "    conn.commit()\n",
    "    conn.close()\n",
    "    print(\"emplyee deleted succcessfully\")\n",
    "\n",
    "\n",
    "delete_employe_id(4)\n",
    "fetch_all_employees()"
   ]
  },
  {
   "cell_type": "code",
   "execution_count": null,
   "id": "322ab155",
   "metadata": {},
   "outputs": [],
   "source": []
  }
 ],
 "metadata": {
  "kernelspec": {
   "display_name": "venv",
   "language": "python",
   "name": "python3"
  },
  "language_info": {
   "codemirror_mode": {
    "name": "ipython",
    "version": 3
   },
   "file_extension": ".py",
   "mimetype": "text/x-python",
   "name": "python",
   "nbconvert_exporter": "python",
   "pygments_lexer": "ipython3",
   "version": "3.12.0"
  }
 },
 "nbformat": 4,
 "nbformat_minor": 5
}
