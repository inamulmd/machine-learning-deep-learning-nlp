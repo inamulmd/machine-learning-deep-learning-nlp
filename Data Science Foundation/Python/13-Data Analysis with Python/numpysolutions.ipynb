{
 "cells": [
  {
   "cell_type": "markdown",
   "id": "87206058",
   "metadata": {},
   "source": [
    "Module: NumPy Assignments\n",
    "Lesson: NumPy"
   ]
  },
  {
   "cell_type": "markdown",
   "id": "bcf1efbd",
   "metadata": {},
   "source": [
    "Lesson NUMPY\n",
    "Assignment 1: Array Creation and Manipulation\n"
   ]
  },
  {
   "cell_type": "markdown",
   "id": "cd73f5f7",
   "metadata": {},
   "source": [
    "1. Create a NumPy array of shape (5, 5) filled with random integers between 1 and 20. Replace all the elements in the third column with 1."
   ]
  },
  {
   "cell_type": "code",
   "execution_count": 21,
   "id": "884650f3",
   "metadata": {},
   "outputs": [
    {
     "name": "stdout",
     "output_type": "stream",
     "text": [
      "orignal array\n",
      "[[ 9  6 12  7 11]\n",
      " [ 6 10  8 17  3]\n",
      " [11 14 18 20 13]\n",
      " [ 6  5 16 14  6]\n",
      " [ 4 14 14  8  2]]\n",
      "[[ 9  6 12  7 11]\n",
      " [ 6 10  8 17  3]\n",
      " [ 1  1  1  1  1]\n",
      " [ 6  5 16 14  6]\n",
      " [ 4 14 14  8  2]]\n"
     ]
    }
   ],
   "source": [
    "import numpy as np\n",
    "import random \n",
    "array = np.random.randint(1,21,size=(5,5))\n",
    "print(\"orignal array\")\n",
    "print(array)\n",
    "\n",
    "array[2:3]=1\n",
    "print(array)"
   ]
  },
  {
   "cell_type": "markdown",
   "id": "8390b759",
   "metadata": {},
   "source": [
    "2. Create a NumPy array of shape (4, 4) with values from 1 to 16. Replace the diagonal elements with 0."
   ]
  },
  {
   "cell_type": "code",
   "execution_count": 13,
   "id": "aa2d8318",
   "metadata": {},
   "outputs": [
    {
     "name": "stdout",
     "output_type": "stream",
     "text": [
      "[[ 1  2  3  4]\n",
      " [ 5  6  7  8]\n",
      " [ 9 10 11 12]\n",
      " [13 14 15 16]]\n",
      "[[ 0  2  3  4]\n",
      " [ 5  0  7  8]\n",
      " [ 9 10  0 12]\n",
      " [13 14 15  0]]\n"
     ]
    }
   ],
   "source": [
    "array2= np.arange(1,17).reshape(4,4)\n",
    "print(array2)\n",
    "\n",
    "np.fill_diagonal(array2,0)\n",
    "print(array2)"
   ]
  },
  {
   "cell_type": "markdown",
   "id": "ec379c5d",
   "metadata": {},
   "source": [
    "Assignment 2: Array Indexing and Slicing\n",
    "\n",
    "1. Create a NumPy array of shape (6, 6) with values from 1 to 36. Extract the sub-array consisting of the 3rd to 5th rows and 2nd to 4th columns."
   ]
  },
  {
   "cell_type": "code",
   "execution_count": 18,
   "id": "61f8b434",
   "metadata": {},
   "outputs": [
    {
     "name": "stdout",
     "output_type": "stream",
     "text": [
      "[[ 1  2  3  4  5  6]\n",
      " [ 7  8  9 10 11 12]\n",
      " [13 14 15 16 17 18]\n",
      " [19 20 21 22 23 24]\n",
      " [25 26 27 28 29 30]\n",
      " [31 32 33 34 35 36]]\n",
      "[[15 16]\n",
      " [21 22]\n",
      " [27 28]\n",
      " [33 34]]\n"
     ]
    }
   ],
   "source": [
    "array=np.arange(1,37).reshape(6,6)\n",
    "print(array)\n",
    "\n",
    "print(array[2:6,2:4])"
   ]
  },
  {
   "cell_type": "markdown",
   "id": "6128bfad",
   "metadata": {},
   "source": [
    "2.Create a NumPy array of shape (5, 5) with random integers. Extract the elements on the border."
   ]
  },
  {
   "cell_type": "code",
   "execution_count": 26,
   "id": "5bb6811d",
   "metadata": {},
   "outputs": [
    {
     "name": "stdout",
     "output_type": "stream",
     "text": [
      "[[ 4 20 11 18 25]\n",
      " [12 24 21 24  1]\n",
      " [ 2  5 15  2  9]\n",
      " [21 18 21 23 25]\n",
      " [18 21  2 12 24]]\n",
      "[ 4 20 11 18 25 18 21  2 12 24 12  2 21  1  9 25]\n"
     ]
    }
   ],
   "source": [
    "array=np.random.randint(1,26,size=(5,5))\n",
    "print(array)\n",
    "\n",
    "border_element=np.concatenate((array[0, :],array[-1,:],array[1:-1,0],array[1:-1,-1]))\n",
    "print(border_element)"
   ]
  },
  {
   "cell_type": "markdown",
   "id": "d9706964",
   "metadata": {},
   "source": [
    "### Assignment 3: Array Operations\n",
    "\n",
    "1. Create two NumPy arrays of shape (3, 4) filled with random integers. Perform element-wise addition, subtraction, multiplication, and division.\n",
    "\n"
   ]
  },
  {
   "cell_type": "code",
   "execution_count": 28,
   "id": "05825700",
   "metadata": {},
   "outputs": [
    {
     "name": "stdout",
     "output_type": "stream",
     "text": [
      "Element-wise addition:\n",
      "[[ 9 20  5  7]\n",
      " [16  5 15  5]\n",
      " [20 16 10 14]]\n",
      "Element-wise subtraction:\n",
      "[[ 3 -2 -3  3]\n",
      " [ 4 -1 -1  3]\n",
      " [-2  4  0 -2]]\n",
      "Element-wise multiplication:\n",
      "[[18 99  4 10]\n",
      " [60  6 56  4]\n",
      " [99 60 25 48]]\n",
      "Element-wise division:\n",
      "[[2.         0.81818182 0.25       2.5       ]\n",
      " [1.66666667 0.66666667 0.875      4.        ]\n",
      " [0.81818182 1.66666667 1.         0.75      ]]\n"
     ]
    }
   ],
   "source": [
    "array1=np.random.randint(1,13,size=(3,4))\n",
    "array2=np.random.randint(1,13,size=(3,4))\n",
    "\n",
    "addition = array1 + array2\n",
    "subtraction = array1 - array2\n",
    "multiplication = array1 * array2\n",
    "division = array1 / array2\n",
    "\n",
    "print(\"Element-wise addition:\")\n",
    "print(addition)\n",
    "print(\"Element-wise subtraction:\")\n",
    "print(subtraction)\n",
    "print(\"Element-wise multiplication:\")\n",
    "print(multiplication)\n",
    "print(\"Element-wise division:\")\n",
    "print(division)"
   ]
  },
  {
   "cell_type": "markdown",
   "id": "4c450873",
   "metadata": {},
   "source": [
    "2. Create a NumPy array of shape (4, 4) with values from 1 to 16. Compute the row-wise and column-wise sum."
   ]
  },
  {
   "cell_type": "code",
   "execution_count": 30,
   "id": "c8a97acf",
   "metadata": {},
   "outputs": [
    {
     "name": "stdout",
     "output_type": "stream",
     "text": [
      "[[ 1  2  3  4]\n",
      " [ 5  6  7  8]\n",
      " [ 9 10 11 12]\n",
      " [13 14 15 16]]\n",
      "[28 32 36 40] [10 26 42 58]\n"
     ]
    }
   ],
   "source": [
    "array=np.arange(1,17).reshape(4,4)\n",
    "print(array)\n",
    "\n",
    "row=np.sum(array,axis=0)\n",
    "col=np.sum(array,axis=1)\n",
    "print(row,col)"
   ]
  },
  {
   "cell_type": "markdown",
   "id": "b0781594",
   "metadata": {},
   "source": [
    "### Assignment 4: Statistical Operations\n",
    "\n",
    "1. Create a NumPy array of shape (5, 5) filled with random integers. Compute the mean, median, standard deviation, and variance of the array.\n"
   ]
  },
  {
   "cell_type": "code",
   "execution_count": null,
   "id": "c2f09e64",
   "metadata": {},
   "outputs": [],
   "source": [
    "# Create a NumPy array of shape (5, 5) filled with random integers\n",
    "array = np.random.randint(1, 21, size=(5, 5))\n",
    "print(\"Original array:\")\n",
    "print(array)\n",
    "\n",
    "# Compute the statistical values\n",
    "mean = np.mean(array)\n",
    "median = np.median(array)\n",
    "std_dev = np.std(array)\n",
    "variance = np.var(array)\n",
    "\n",
    "print(\"Mean:\", mean)\n",
    "print(\"Median:\", median)\n",
    "print(\"Standard Deviation:\", std_dev)\n",
    "print(\"Variance:\", variance)"
   ]
  },
  {
   "cell_type": "markdown",
   "id": "c7ca3ca2",
   "metadata": {},
   "source": [
    "2. Create a NumPy array of shape (3, 3) with values from 1 to 9. Normalize the array (i.e., scale the values to have a mean of 0 and a standard deviation of 1).\n"
   ]
  },
  {
   "cell_type": "code",
   "execution_count": 37,
   "id": "210d16f6",
   "metadata": {},
   "outputs": [
    {
     "name": "stdout",
     "output_type": "stream",
     "text": [
      "[[1 2 3]\n",
      " [4 5 6]\n",
      " [7 8 9]]\n",
      "[[-1.54919334 -1.161895   -0.77459667]\n",
      " [-0.38729833  0.          0.38729833]\n",
      " [ 0.77459667  1.161895    1.54919334]]\n"
     ]
    }
   ],
   "source": [
    "array=np.arange(1,10).reshape(3,3)\n",
    "print(array)\n",
    "\n",
    "mean = np.mean(array)\n",
    "std_dev = np.std(array)\n",
    "normalized_array = (array - mean) / std_dev\n",
    "\n",
    "print(normalized_array)"
   ]
  },
  {
   "cell_type": "markdown",
   "id": "5902d231",
   "metadata": {},
   "source": [
    " Assignment 5: Broadcasting\n",
    "\n",
    "1. Create a NumPy array of shape (3, 3) filled with random integers. Add a 1D array of shape (3,) to each row of the 2D array using broadcasting.\n"
   ]
  },
  {
   "cell_type": "code",
   "execution_count": 41,
   "id": "1bfdb016",
   "metadata": {},
   "outputs": [
    {
     "name": "stdout",
     "output_type": "stream",
     "text": [
      "[[8 7 5]\n",
      " [2 9 4]\n",
      " [1 5 3]]\n",
      "[7 2 9]\n",
      "[[15  9 14]\n",
      " [ 9 11 13]\n",
      " [ 8  7 12]]\n"
     ]
    }
   ],
   "source": [
    "array=np.random.randint(1,10,size=(3,3))\n",
    "row=np.random.randint(1,10,size=(3,))\n",
    "print(array)\n",
    "print(row)\n",
    "\n",
    "print(array+row)"
   ]
  },
  {
   "cell_type": "markdown",
   "id": "e29cf162",
   "metadata": {},
   "source": [
    "2. Create a NumPy array of shape (4, 4) filled with random integers. Subtract a 1D array of shape (4,) from each column of the 2D array using broadcasting."
   ]
  },
  {
   "cell_type": "code",
   "execution_count": 43,
   "id": "20a48234",
   "metadata": {},
   "outputs": [
    {
     "name": "stdout",
     "output_type": "stream",
     "text": [
      "[[ 7  9  3  2]\n",
      " [ 2 13  3  4]\n",
      " [ 8 12  2  5]\n",
      " [ 5  8  9 15]]\n",
      "[ 5  8 13 11]\n",
      "[[  2   1 -10  -9]\n",
      " [ -3   5 -10  -7]\n",
      " [  3   4 -11  -6]\n",
      " [  0   0  -4   4]]\n"
     ]
    }
   ],
   "source": [
    "array=np.random.randint(1,17,size=(4,4))\n",
    "row=np.random.randint(1,17,size=(4,))\n",
    "print(array)\n",
    "print(row)\n",
    "\n",
    "print(array-row)"
   ]
  },
  {
   "cell_type": "markdown",
   "id": "6d078106",
   "metadata": {},
   "source": [
    "### Assignment 6: Linear Algebra\n",
    "\n",
    "1. Create a NumPy array of shape (3, 3) representing a matrix. Compute its determinant, inverse, and eigenvalues.\n"
   ]
  },
  {
   "cell_type": "code",
   "execution_count": 50,
   "id": "53ab110a",
   "metadata": {},
   "outputs": [
    {
     "name": "stdout",
     "output_type": "stream",
     "text": [
      "[[16  5  9]\n",
      " [14  8  4]\n",
      " [10  3 11]]\n",
      "304.00000000000006\n",
      "Inverse:\n",
      "[[ 0.25       -0.09210526 -0.17105263]\n",
      " [-0.375       0.28289474  0.20394737]\n",
      " [-0.125       0.00657895  0.19078947]]\n"
     ]
    }
   ],
   "source": [
    "array=np.random.randint(1,17,size=(3,3))\n",
    "print(array)\n",
    "\n",
    "matrix=np.linalg.det(array)\n",
    "print(matrix)\n",
    "\n",
    "inverse = np.linalg.inv(array)\n",
    "print(\"Inverse:\")\n",
    "print(inverse)\n",
    "\n"
   ]
  },
  {
   "cell_type": "markdown",
   "id": "467b525a",
   "metadata": {},
   "source": [
    "2. Create two NumPy arrays of shape (2, 3) and (3, 2). Perform matrix multiplication on these arrays."
   ]
  },
  {
   "cell_type": "code",
   "execution_count": 53,
   "id": "473cec87",
   "metadata": {},
   "outputs": [
    {
     "name": "stdout",
     "output_type": "stream",
     "text": [
      "[[ 61 239]\n",
      " [120 278]]\n"
     ]
    }
   ],
   "source": [
    "array1=np.random.randint(1,17,size=(2,3))\n",
    "array2=np.random.randint(1,17,size=(3,2))\n",
    "\n",
    "result=np.dot(array1,array2)\n",
    "print(result)"
   ]
  }
 ],
 "metadata": {
  "kernelspec": {
   "display_name": "venv",
   "language": "python",
   "name": "python3"
  },
  "language_info": {
   "codemirror_mode": {
    "name": "ipython",
    "version": 3
   },
   "file_extension": ".py",
   "mimetype": "text/x-python",
   "name": "python",
   "nbconvert_exporter": "python",
   "pygments_lexer": "ipython3",
   "version": "3.12.0"
  }
 },
 "nbformat": 4,
 "nbformat_minor": 5
}
